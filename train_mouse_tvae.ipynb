{
 "cells": [
  {
   "cell_type": "code",
   "execution_count": 9,
   "id": "5b1035e4",
   "metadata": {},
   "outputs": [],
   "source": [
    "import sys\n",
    "from tqdm import tqdm\n",
    "sys.path.append('./tvae')\n",
    "from train import *"
   ]
  },
  {
   "cell_type": "markdown",
   "id": "1c798a5b",
   "metadata": {},
   "source": [
    "# Load videos and stack mice to perform mean-centering and SVD\n",
    "\n",
    "The TVAE accepts a sequence of frames as inputs. Before we split the videos into sequences, we are going to preprocess all the poses by normalizing the keypoint coordinates, mean-centering them, rotationally aligning the spine with the y-axis, and computing the singular value decomposition of the aligned pose. "
   ]
  },
  {
   "cell_type": "code",
   "execution_count": 10,
   "id": "73a425e3",
   "metadata": {},
   "outputs": [],
   "source": [
    "user_train = np.load('mouse_data/user_train.npy',allow_pickle=True).item()"
   ]
  },
  {
   "cell_type": "code",
   "execution_count": null,
   "id": "973fd405",
   "metadata": {},
   "outputs": [],
   "source": [
    "# First we need to combine all the videos and normalize them to compute SVD\n",
    "from datasets.mouse_v1.preprocess import normalize\n",
    "\n",
    "full_dataset = []\n",
    "for i, (name, sequence) in enumerate(tqdm(user_train['sequences'].items())):\n",
    "    # Vectorizes each frame in the sequence\n",
    "    vec_seq = sequence['keypoints'].reshape(sequence['keypoints'].shape[0], -1)\n",
    "    full_dataset.append(normalize(vec_seq))\n",
    "           \n",
    "full_dataset = np.concatenate(full_dataset, axis=0)"
   ]
  },
  {
   "cell_type": "markdown",
   "id": "b9666e2c",
   "metadata": {},
   "source": [
    "The output of the last step is an array of each of the frames stacked on top of one another. Each of the 3 mice has 12 keypoints, with both x and y coordinates. So `full_dataset` will be `total_frames x 72`. \n",
    "\n",
    "The next step is to rotationally align each of the mice's poses such that the vector formed by the keypoint at the neck base and the keypoint at the tail base is aligned with the y-axis. The angle of rotation is stored and fed as an input to the model. After the poses are rotationally aligned, the mean of each mouse's pose is subtracted, and the singular value decomposition of the normalized, aligned, and mean-centered pose is computed. In a sense, we are trying to limit the relevant sources of variance that the TVAE representations will capture."
   ]
  },
  {
   "cell_type": "code",
   "execution_count": null,
   "id": "f9b3342d",
   "metadata": {},
   "outputs": [],
   "source": [
    "# Next we need to complete the rotation alignment and compute SVD\n",
    "from datasets.mouse_v1.preprocess import transform_to_svd_components\n",
    "_, svd, mean = transform_to_svd_components(full_dataset)"
   ]
  },
  {
   "cell_type": "markdown",
   "id": "5a736754",
   "metadata": {},
   "source": [
    "# Create sub-sequences with sliding window and complete preprocessing"
   ]
  },
  {
   "cell_type": "markdown",
   "id": "7157aa58",
   "metadata": {},
   "source": [
    "Next we iterate through each video and apply the preprocessing stack we developed in the last step. After each video is preprocessed, we pad the beginning and end of the video with repeat frames and create fixed-length sliding window sequences defined by `sub_seq_length` and `sliding_window` below. These sequences will be the inputs provided as inputs to the TVAE."
   ]
  },
  {
   "cell_type": "code",
   "execution_count": null,
   "id": "6caf64a2",
   "metadata": {
    "scrolled": false
   },
   "outputs": [],
   "source": [
    "# Now we need to iterate through the videos, rotationally align, mean subtract, and apply SVD\n",
    "preprocessed_data = []\n",
    "sub_seq_length = 21\n",
    "sliding_window = 5\n",
    "for i, (name, sequence) in enumerate(tqdm(user_train['sequences'].items())):\n",
    "    # Preprocess sequences\n",
    "    vec_seq = sequence['keypoints'].reshape(sequence['keypoints'].shape[0], -1)\n",
    "    vec_seq = normalize(vec_seq)\n",
    "    \n",
    "    if i == 0: # Here for debugging - leave to demonstrate that preprocessing works\n",
    "        control = vec_seq\n",
    "        control = control.reshape(control.shape[0], -1)\n",
    "        control = np.pad(control, ((sub_seq_length//2, sub_seq_length-1-sub_seq_length//2), (0,0)), mode='edge')\n",
    "        control = np.stack([control[i:len(control)+i-sub_seq_length+1:sliding_window] for i in range(sub_seq_length)], axis=1)\n",
    "    \n",
    "    vec_seq, _, _ = transform_to_svd_components(\n",
    "            vec_seq,\n",
    "            svd_computer=svd,\n",
    "            mean=mean\n",
    "    )\n",
    "    \n",
    "    # Pads the beginning and end of the sequence with duplicate frames\n",
    "    vec_seq = vec_seq.reshape(vec_seq.shape[0], -1)\n",
    "    pad_vec = np.pad(vec_seq, ((sub_seq_length//2, sub_seq_length-1-sub_seq_length//2), (0,0)), mode='edge')\n",
    "    \n",
    "    # Converts sequence into [number of sub-sequences, frames in sub-sequence, x/y alternating keypoints]\n",
    "    sub_seqs = np.stack([pad_vec[i:len(pad_vec)+i-sub_seq_length+1:sliding_window] for i in range(sub_seq_length)], axis=1)\n",
    "    preprocessed_data.append(sub_seqs)\n",
    "        \n",
    "preprocessed_data = np.concatenate(preprocessed_data, axis=0)"
   ]
  },
  {
   "cell_type": "markdown",
   "id": "b9acf0db",
   "metadata": {},
   "source": [
    "# Postprocessing demonstration"
   ]
  },
  {
   "cell_type": "markdown",
   "id": "2aae2a16",
   "metadata": {},
   "source": [
    "This next cell demonstrates how to postprocess the pose and also serves as a sanity check to make sure the unalignment, SVD, and unnormalization give us back approximately the same pose we started with."
   ]
  },
  {
   "cell_type": "code",
   "execution_count": null,
   "id": "5ea84261",
   "metadata": {},
   "outputs": [],
   "source": [
    "# Test postprocessing\n",
    "import matplotlib.pyplot as plt\n",
    "\n",
    "%matplotlib notebook\n",
    "\n",
    "from datasets.mouse_v1.preprocess import transform_svd_to_keypoints\n",
    "from datasets.mouse_v1.preprocess import unnormalize\n",
    "\n",
    "random_seq = preprocessed_data[20] # Cannot compare postprocessed/original pairs outside of first sequence (index 1800)\n",
    "random_seq = random_seq.reshape(-1, 3, 11)\n",
    "random_seq = transform_svd_to_keypoints(random_seq, svd, mean)\n",
    "random_seq = random_seq.reshape(random_seq.shape[0],-1)\n",
    "random_seq = unnormalize(random_seq.reshape(random_seq.shape[0],-1))\n",
    "\n",
    "control_seq = control[20] \n",
    "control_seq = control_seq.reshape(-1, 3, 12, 2)\n",
    "control_seq = control_seq[:,:,:10,:]\n",
    "control_seq = control_seq.reshape(control_seq.shape[0], -1)\n",
    "control_seq = unnormalize(control_seq)\n",
    "\n",
    "from celluloid import Camera\n",
    "fig = plt.figure()\n",
    "camera = Camera(fig)\n",
    "plt.xlim(0,850), plt.ylim(0,850)\n",
    "for i in range(0,21):\n",
    "    xvals = random_seq[i,::2]\n",
    "    yvals = random_seq[i,1::2]\n",
    "    plt.scatter(x=xvals, y=yvals, c='b')\n",
    "\n",
    "    xvals = control_seq[i,::2]\n",
    "    yvals = control_seq[i,1::2]\n",
    "    plt.scatter(x=xvals, y=yvals, c='g')\n",
    "    \n",
    "    camera.snap()\n",
    "    \n",
    "animation = camera.animate()\n",
    "animation.save('test.gif', writer='imagemagick')"
   ]
  },
  {
   "cell_type": "markdown",
   "id": "2e17f52a",
   "metadata": {},
   "source": [
    "# Configure the model and training parameters"
   ]
  },
  {
   "attachments": {},
   "cell_type": "markdown",
   "id": "625d9744",
   "metadata": {},
   "source": [
    "<!-- ![Screenshot%20from%202022-03-16%2016-02-04.png]() -->\n",
    "\n",
    "<div>\n",
    "<img src=\"tvae_diagram.png\" width=\"750\"/>\n",
    "</div>\n",
    "\n",
    "Above is the architecture that defines the trajectory variational autoencoder (TVAE) used here. The input to the model is comprised of states $s_{0}, ... , s_{\\tau}$ and actions that define the change from one state to the next $a_{0}, ... , a_{\\tau - 1}$. The encoder is a bi-directional GRU, the output of which, at each time step, is averaged and fed into fully-connected layers that produce a mean and variance which define a gaussian distribution (the posterior). A sample is then generated from the posterior and passed as an input, along with the initial state $s_{0}$ to the decoder. \n",
    "\n",
    "The decoder then \"rolls out\" each subsequent state by predicting a distribution of actions, and then sampling a single action used to act on the previous state i.e. $\\hat{s_1} = s_{0} + \\hat{a_{0}}, \\hat{s_2} = \\hat{s_1} + \\hat{a_1}, \\hat{s_3} = \\hat{s_2} + \\hat{a_2}$ etc. The output of each recurrent unit in the decoder is fed through fully-connected layers to produce the mean and variance of the gaussian distribution of actions. The reconstruction loss for a single trajectory is computed by taking the negative log-likelihood of the true action under the predicted distribution of actions and summing that across time. For more detail, the main computation of a forward pass through the model is completed in `./tvae/lib/models/core.py` in the method titled `forward`.\n",
    "\n",
    "\n",
    "In this application, the input trajectory will be a sequence of preprocessed poses, and we will treat the mean of the posterior as our embedding. Below are adjustable model and dataset configurations and their associated descriptions."
   ]
  },
  {
   "cell_type": "code",
   "execution_count": null,
   "id": "c0a9ebe2",
   "metadata": {},
   "outputs": [],
   "source": [
    "# Example model arguments\n",
    "model_config = { \n",
    "    \"name\": \"tvae\",\n",
    "    \"z_dim\": 32,      # Dimensionality of the posterior / embedding\n",
    "    \"h_dim\": 256,     # Number of units to use in the fully-connected layers in the encoder and decoder\n",
    "    \"rnn_dim\": 256,   # Number of units to use in the recurrent encoder and decoder\n",
    "    \"num_layers\": 1,  # Number of layers to use in the recurrent encoder and decoder \n",
    "    \"state_dim\": 33,  # Dimensionality of the input states - we are only embedding single fly features for now\n",
    "    \"action_dim\": 33  # Dimensionality of the input actions\n",
    "}\n",
    "\n",
    "# Example training arguments\n",
    "train_config = { \n",
    "    \"batch_size\": 128,          # Batch size to use during training - higher = faster, but more GPU utilization\n",
    "    \"num_epochs_til_val\": 10,   # Checkpoints will be saved to ./checkpoints/{project_name}/ every num_epochs_til_val epochs \n",
    "    \"learning_rate\": 0.0002,    # Learning rate for the optimizer to use\n",
    "    \"num_epochs\": 300,          # Number of epochs to use\n",
    "    \"clip\": 10,                 # Higher means potentially faster but more unstable training\n",
    "    \"project_name\": 'test_mouse_jupyter_notebook'  # All checkpoints and loss logs will be saved to ./checkpoints/project_name/\n",
    "}"
   ]
  },
  {
   "cell_type": "markdown",
   "id": "eca8b20f",
   "metadata": {},
   "source": [
    "# Split preprocessed data into training a validation sets"
   ]
  },
  {
   "cell_type": "code",
   "execution_count": null,
   "id": "d0411785",
   "metadata": {},
   "outputs": [],
   "source": [
    "# Split the dataset into a training and testing set\n",
    "test_prop = 0.20\n",
    "test_len = int(len(preprocessed_data) * test_prop)\n",
    "np.random.shuffle(preprocessed_data)\n",
    "data_train = preprocessed_data[test_len:]\n",
    "data_test = preprocessed_data[:test_len]"
   ]
  },
  {
   "cell_type": "markdown",
   "id": "6f515b7b",
   "metadata": {},
   "source": [
    "# Create dataset object to train the TVAE using preprocessed data"
   ]
  },
  {
   "cell_type": "code",
   "execution_count": null,
   "id": "b07d9e6d",
   "metadata": {},
   "outputs": [],
   "source": [
    "from datasets import load_dataset\n",
    "\n",
    "# Device configurations\n",
    "device = torch.device('cuda:0')\n",
    "\n",
    "data_config = { \n",
    "    'name': 'mouse_v1',\n",
    "    'data_train': data_train,\n",
    "    'data_test': data_test,\n",
    "    'device': device,\n",
    "}   \n",
    "\n",
    "# build dataset and train / val split\n",
    "dataset = load_dataset(data_config)\n",
    "\n",
    "data_loader = DataLoader(\n",
    "                dataset,\n",
    "                batch_size=train_config['batch_size'],\n",
    "                shuffle = False\n",
    ")"
   ]
  },
  {
   "cell_type": "markdown",
   "id": "1710a784",
   "metadata": {},
   "source": [
    "# Instantiate model and load most recent checkpoint if necessary"
   ]
  },
  {
   "cell_type": "code",
   "execution_count": null,
   "id": "0f15f8bc",
   "metadata": {},
   "outputs": [],
   "source": [
    "# This will check and store the most recent checkpointed model in your project directory\n",
    "from util.checkpoint_handler import checkpoint_handler\n",
    "train_config = checkpoint_handler(train_config)"
   ]
  },
  {
   "cell_type": "code",
   "execution_count": null,
   "id": "d9fab6b0",
   "metadata": {},
   "outputs": [],
   "source": [
    "# Define the model\n",
    "model = TVAE(model_config)\n",
    "model = model.to(device)\n",
    "model.prepare_stage(train_config)"
   ]
  },
  {
   "cell_type": "markdown",
   "id": "4fb05a65",
   "metadata": {},
   "source": [
    "# Train the TVAE"
   ]
  },
  {
   "cell_type": "code",
   "execution_count": null,
   "id": "6e8a4b2a",
   "metadata": {},
   "outputs": [],
   "source": [
    "# Train the model\n",
    "train_losses, val_losses = train(model, data_loader, train_config, device)"
   ]
  },
  {
   "cell_type": "markdown",
   "id": "b51161c6",
   "metadata": {},
   "source": [
    "# Find best checkpoint"
   ]
  },
  {
   "cell_type": "code",
   "execution_count": null,
   "id": "e372faec",
   "metadata": {},
   "outputs": [],
   "source": [
    "with open(f'./checkpoints/{train_config[\"project_name\"]}/val_losses.txt', 'r') as myFile:\n",
    "    lines = myFile.readlines()\n",
    "    klds, nlls = [],[]\n",
    "    for i, line in enumerate(lines):\n",
    "        if 'NLL' in line:\n",
    "            nlls.append(float(line.split(' ')[-1]))\n",
    "        elif 'KLD' in line:\n",
    "            klds.append(float(line.split(' ')[-1]))\n",
    "\n",
    "best_ckpt = np.array(nlls).argmin()*10"
   ]
  },
  {
   "cell_type": "markdown",
   "id": "f836389f",
   "metadata": {},
   "source": [
    "# Visualize some reconstructions of the validation set"
   ]
  },
  {
   "cell_type": "code",
   "execution_count": null,
   "id": "2ed4868b",
   "metadata": {},
   "outputs": [],
   "source": [
    "from reconstruct import *\n",
    "\n",
    "model.load_state_dict(torch.load(f'./checkpoints/{train_config[\"project_name\"]}/{best_ckpt}.pt'))\n",
    "\n",
    "data_loader.dataset.eval()\n",
    "model.eval()\n",
    "recons, originals, embeddings = reconstruct(model, data_loader, data_config['device'])"
   ]
  },
  {
   "cell_type": "code",
   "execution_count": null,
   "id": "b03572aa",
   "metadata": {
    "scrolled": true
   },
   "outputs": [],
   "source": [
    "random_seq = recons[200] # Cannot compare postprocessed/original pairs outside of first sequence (index 1800)\n",
    "random_seq = random_seq.reshape(-1, 3, 11)\n",
    "random_seq = transform_svd_to_keypoints(random_seq, svd, mean)\n",
    "random_seq = random_seq.reshape(random_seq.shape[0],-1)\n",
    "random_seq = unnormalize(random_seq.reshape(random_seq.shape[0],-1))\n",
    "\n",
    "original = originals[200]\n",
    "original = original.reshape(-1,3,11)\n",
    "original = transform_svd_to_keypoints(original, svd, mean)\n",
    "original = original.reshape(original.shape[0], -1)\n",
    "original = unnormalize(original.reshape(original.shape[0], -1))\n",
    "\n",
    "from celluloid import Camera\n",
    "fig = plt.figure()\n",
    "camera = Camera(fig)\n",
    "plt.xlim(0,850), plt.ylim(0,850)\n",
    "for i in range(0,21):\n",
    "    xvals = original[i,::2]\n",
    "    yvals = original[i,1::2]\n",
    "    \n",
    "    if i == 0: \n",
    "        plt.scatter(x=xvals, y=yvals, c='g', label = 'original')\n",
    "    else:\n",
    "        plt.scatter(x=xvals, y=yvals, c='g')\n",
    "\n",
    "    xvals = random_seq[i,::2]\n",
    "    yvals = random_seq[i,1::2]\n",
    "    \n",
    "    if i == 0:\n",
    "        plt.scatter(x=xvals, y=yvals, c='b', label='reconstruction')\n",
    "    else:\n",
    "        plt.scatter(x=xvals, y=yvals, c='b')\n",
    "\n",
    "    camera.snap()\n",
    "    \n",
    "plt.legend()\n",
    "animation = camera.animate()\n",
    "animation.save('test.gif', writer='imagemagick')"
   ]
  },
  {
   "cell_type": "markdown",
   "id": "4eb5aa27",
   "metadata": {},
   "source": [
    "# Example submission\n",
    "This just iterates through all the sequences provided in sample clips, preprocesses them, produces embeddings for them, and then saves them in the correct dictionary format."
   ]
  },
  {
   "cell_type": "code",
   "execution_count": null,
   "id": "b805f109",
   "metadata": {},
   "outputs": [],
   "source": [
    "# Load best model checkpoint\n",
    "model.load_state_dict(torch.load(f'./checkpoints/{train_config[\"project_name\"]}/{best_ckpt}.pt'))\n",
    "\n",
    "# Load submission clips - you may have to delete some of the larger arrays above in order to prevent the kernel from dying\n",
    "submission_clips = np.load('mouse_data/submission_clips.npy',allow_pickle=True).item()\n",
    "submission = {\n",
    "    'frame_number_map': {},\n",
    "    'embeddings': []\n",
    "}\n",
    "\n",
    "# Now we need to iterate through the videos, rotationally align, mean subtract, and apply SVD\n",
    "sub_seq_length = 21\n",
    "sliding_window = 1\n",
    "start_idx = 0\n",
    "for i, (name, sequence) in enumerate(tqdm(submission_clips['sequences'].items())):\n",
    "    # Preprocess sequences\n",
    "    vec_seq = sequence['keypoints'].reshape(sequence['keypoints'].shape[0], -1)\n",
    "    vec_seq = normalize(vec_seq)\n",
    "    \n",
    "    vec_seq, _, _ = transform_to_svd_components(\n",
    "            vec_seq,\n",
    "            svd_computer=svd,\n",
    "            mean=mean\n",
    "    )\n",
    "    \n",
    "    # Pads the beginning and end of the sequence with duplicate frames\n",
    "    vec_seq = vec_seq.reshape(vec_seq.shape[0], -1)\n",
    "    pad_vec = np.pad(vec_seq, ((sub_seq_length//2, sub_seq_length-1-sub_seq_length//2), (0,0)), mode='edge')\n",
    "    \n",
    "    # Converts sequence into [number of sub-sequences, frames in sub-sequence, x/y alternating keypoints]\n",
    "    data_test = np.stack([pad_vec[i:len(pad_vec)+i-sub_seq_length+1:sliding_window] for i in range(sub_seq_length)], axis=1)\n",
    "    \n",
    "    # Device configurations\n",
    "    device = torch.device('cuda:0')\n",
    "\n",
    "    data_config = { \n",
    "        'name': 'mouse_v1',\n",
    "        'data_train': data_test,\n",
    "        'data_test': data_test,\n",
    "        'device': device,\n",
    "    }   \n",
    "   \n",
    "    # build dataset and train / val split\n",
    "    dataset = load_dataset(data_config)\n",
    "\n",
    "    data_loader = DataLoader(\n",
    "                    dataset,\n",
    "                    batch_size=train_config['batch_size'],\n",
    "                    shuffle = False\n",
    "    )\n",
    "    \n",
    "    data_loader.dataset.eval()\n",
    "    model.eval()\n",
    "    _, _, embeddings = reconstruct(model, data_loader, data_config['device'])\n",
    "    \n",
    "    end_idx = start_idx + len(embeddings)\n",
    "    submission['embeddings'].append(embeddings)\n",
    "    submission['frame_number_map'][name] = (start_idx, end_idx)\n",
    "    start_idx = end_idx\n",
    "       \n",
    "submission['embeddings'] = np.concatenate(submission['embeddings'], axis=0)\n",
    "np.save('test_mouse_tvae_submission.npy', submission)    "
   ]
  }
 ],
 "metadata": {
  "kernelspec": {
   "display_name": "Python 3 (ipykernel)",
   "language": "python",
   "name": "python3"
  },
  "language_info": {
   "codemirror_mode": {
    "name": "ipython",
    "version": 3
   },
   "file_extension": ".py",
   "mimetype": "text/x-python",
   "name": "python",
   "nbconvert_exporter": "python",
   "pygments_lexer": "ipython3",
   "version": "3.8.12"
  }
 },
 "nbformat": 4,
 "nbformat_minor": 5
}
